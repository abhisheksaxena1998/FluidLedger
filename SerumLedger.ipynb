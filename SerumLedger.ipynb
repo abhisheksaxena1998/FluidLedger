{
  "nbformat": 4,
  "nbformat_minor": 0,
  "metadata": {
    "colab": {
      "name": "SerumLedger.ipynb",
      "provenance": [],
      "collapsed_sections": [],
      "authorship_tag": "ABX9TyNzvFA17+kqSfbmy194U+YF",
      "include_colab_link": true
    },
    "kernelspec": {
      "name": "python3",
      "display_name": "Python 3"
    }
  },
  "cells": [
    {
      "cell_type": "markdown",
      "metadata": {
        "id": "view-in-github",
        "colab_type": "text"
      },
      "source": [
        "<a href=\"https://colab.research.google.com/github/abhisheksaxena1998/FluidLedger/blob/master/SerumLedger.ipynb\" target=\"_parent\"><img src=\"https://colab.research.google.com/assets/colab-badge.svg\" alt=\"Open In Colab\"/></a>"
      ]
    },
    {
      "cell_type": "code",
      "metadata": {
        "colab": {
          "base_uri": "https://localhost:8080/",
          "height": 195
        },
        "id": "9sdyckUGFTr5",
        "outputId": "f3940402-0d60-407f-8a17-c8abfd2d55e8"
      },
      "source": [
        "import pandas as pd\n",
        "import numpy as np\n",
        "\n",
        "df = pd.read_csv('transfusion.data')\n",
        "df.head()"
      ],
      "execution_count": 2,
      "outputs": [
        {
          "output_type": "execute_result",
          "data": {
            "text/html": [
              "<div>\n",
              "<style scoped>\n",
              "    .dataframe tbody tr th:only-of-type {\n",
              "        vertical-align: middle;\n",
              "    }\n",
              "\n",
              "    .dataframe tbody tr th {\n",
              "        vertical-align: top;\n",
              "    }\n",
              "\n",
              "    .dataframe thead th {\n",
              "        text-align: right;\n",
              "    }\n",
              "</style>\n",
              "<table border=\"1\" class=\"dataframe\">\n",
              "  <thead>\n",
              "    <tr style=\"text-align: right;\">\n",
              "      <th></th>\n",
              "      <th>Recency (months)</th>\n",
              "      <th>Frequency (times)</th>\n",
              "      <th>Monetary (c.c. blood)</th>\n",
              "      <th>Time (months)</th>\n",
              "      <th>whether he/she donated blood in March 2007</th>\n",
              "    </tr>\n",
              "  </thead>\n",
              "  <tbody>\n",
              "    <tr>\n",
              "      <th>0</th>\n",
              "      <td>2</td>\n",
              "      <td>50</td>\n",
              "      <td>12500</td>\n",
              "      <td>98</td>\n",
              "      <td>1</td>\n",
              "    </tr>\n",
              "    <tr>\n",
              "      <th>1</th>\n",
              "      <td>0</td>\n",
              "      <td>13</td>\n",
              "      <td>3250</td>\n",
              "      <td>28</td>\n",
              "      <td>1</td>\n",
              "    </tr>\n",
              "    <tr>\n",
              "      <th>2</th>\n",
              "      <td>1</td>\n",
              "      <td>16</td>\n",
              "      <td>4000</td>\n",
              "      <td>35</td>\n",
              "      <td>1</td>\n",
              "    </tr>\n",
              "    <tr>\n",
              "      <th>3</th>\n",
              "      <td>2</td>\n",
              "      <td>20</td>\n",
              "      <td>5000</td>\n",
              "      <td>45</td>\n",
              "      <td>1</td>\n",
              "    </tr>\n",
              "    <tr>\n",
              "      <th>4</th>\n",
              "      <td>1</td>\n",
              "      <td>24</td>\n",
              "      <td>6000</td>\n",
              "      <td>77</td>\n",
              "      <td>0</td>\n",
              "    </tr>\n",
              "  </tbody>\n",
              "</table>\n",
              "</div>"
            ],
            "text/plain": [
              "   Recency (months)  ...  whether he/she donated blood in March 2007\n",
              "0                 2  ...                                           1\n",
              "1                 0  ...                                           1\n",
              "2                 1  ...                                           1\n",
              "3                 2  ...                                           1\n",
              "4                 1  ...                                           0\n",
              "\n",
              "[5 rows x 5 columns]"
            ]
          },
          "metadata": {
            "tags": []
          },
          "execution_count": 2
        }
      ]
    },
    {
      "cell_type": "markdown",
      "metadata": {
        "id": "yO0Ld5mEJmcv"
      },
      "source": [
        "The data has 5 columns, which means:\n",
        "Recency (months): Number of months since last donation.\n",
        "Frequency (times): Total number of donations.\n",
        "Monetary (c.c. blood): Total blood donated in c.c.\n",
        "Time (months): Number of months since first donation.\n",
        "whether he/she donated blood in March 2007: Target class."
      ]
    },
    {
      "cell_type": "code",
      "metadata": {
        "colab": {
          "base_uri": "https://localhost:8080/",
          "height": 428
        },
        "id": "04ANrb1uJbmc",
        "outputId": "49533348-ed1b-4d94-ecb0-5d70cb5f5efa"
      },
      "source": [
        "from sklearn.pipeline import Pipeline\n",
        "from sklearn.feature_selection import SelectKBest\n",
        "from sklearn.linear_model import LogisticRegression\n",
        "\n",
        "X = df.iloc[:,0:4]  #independent columns\n",
        "y = df.iloc[:,-1]    #target column \n",
        "from sklearn.ensemble import ExtraTreesClassifier\n",
        "import matplotlib.pyplot as plt\n",
        "model = ExtraTreesClassifier()\n",
        "model.fit(X,y)\n",
        "#print(model.feature_importances_) #use inbuilt class feature_importances of tree based classifiers\n",
        "#plot graph of feature importances for better visualization\n",
        "fig, ax = plt.subplots(figsize=(15,7))\n",
        "feat_importances = pd.Series(model.feature_importances_, index=X.columns)\n",
        "feat_importances.nlargest(10).plot(kind='barh')\n",
        "plt.show()"
      ],
      "execution_count": 9,
      "outputs": [
        {
          "output_type": "display_data",
          "data": {
            "image/png": "[encoded data removed]",
            "text/plain": [
              "<Figure size 1080x504 with 1 Axes>"
            ]
          },
          "metadata": {
            "tags": [],
            "needs_background": "light"
          }
        }
      ]
    },
    {
      "cell_type": "code",
      "metadata": {
        "id": "MDqY9ZGaKlyH"
      },
      "source": [
        "from sklearn.model_selection import train_test_split\n",
        "\n",
        "X_train, X_test, y_train, y_test = train_test_split(X, y, test_size=0.1,random_state=42)"
      ],
      "execution_count": 12,
      "outputs": []
    },
    {
      "cell_type": "markdown",
      "metadata": {
        "id": "920E4M3PAeDE"
      },
      "source": [
        "AdaBoostClassifier"
      ]
    },
    {
      "cell_type": "code",
      "metadata": {
        "colab": {
          "base_uri": "https://localhost:8080/"
        },
        "id": "EB1E6svl_9wX",
        "outputId": "b0cd3125-ca01-4195-b832-116a1af010e6"
      },
      "source": [
        "from sklearn.ensemble import AdaBoostClassifier\n",
        "\n",
        " \n",
        "clf = AdaBoostClassifier(n_estimators=1000, random_state=0)\n",
        "clf.fit(X_train,y_train)\n",
        "clf.score(X_train,y_train)"
      ],
      "execution_count": 16,
      "outputs": [
        {
          "output_type": "execute_result",
          "data": {
            "text/plain": [
              "0.8320950965824666"
            ]
          },
          "metadata": {
            "tags": []
          },
          "execution_count": 16
        }
      ]
    },
    {
      "cell_type": "code",
      "metadata": {
        "id": "kWIIu9jyAUea"
      },
      "source": [
        "predictions = model.predict((X_test))\n"
      ],
      "execution_count": 17,
      "outputs": []
    },
    {
      "cell_type": "code",
      "metadata": {
        "colab": {
          "base_uri": "https://localhost:8080/"
        },
        "id": "fFSjXUvDAXRg",
        "outputId": "7576f402-f409-4856-a582-d1dc74a01db8"
      },
      "source": [
        "print('accuracy %s' % accuracy_score(predictions, y_test))\n",
        "print(classification_report(y_test, predictions,target_names=['1','-1']))"
      ],
      "execution_count": 18,
      "outputs": [
        {
          "output_type": "stream",
          "text": [
            "accuracy 0.96\n",
            "              precision    recall  f1-score   support\n",
            "\n",
            "           1       0.95      1.00      0.98        60\n",
            "          -1       1.00      0.80      0.89        15\n",
            "\n",
            "    accuracy                           0.96        75\n",
            "   macro avg       0.98      0.90      0.93        75\n",
            "weighted avg       0.96      0.96      0.96        75\n",
            "\n"
          ],
          "name": "stdout"
        }
      ]
    },
    {
      "cell_type": "code",
      "metadata": {
        "colab": {
          "base_uri": "https://localhost:8080/"
        },
        "id": "G3w1l-tQAZGM",
        "outputId": "30c9993e-be3e-4eb8-d604-044533addec6"
      },
      "source": [
        "acc_ada_train=[]\n",
        "for i in range(9):\n",
        "    X_train, X_test, y_train, y_test = train_test_split(X, y, train_size=(i+1)/10, random_state = 42)\n",
        "\n",
        "    ada = AdaBoostClassifier(n_estimators=1000, random_state=0)\n",
        "    ada.fit(X_train,y_train)\n",
        "    y_pred = ada.predict(X_test)\n",
        "    acc_ada_train.append(accuracy_score(y_pred, y_test))\n",
        "    print('accuracy %s' % accuracy_score(y_pred, y_test))\n",
        "print (acc_ada_train)"
      ],
      "execution_count": 20,
      "outputs": [
        {
          "output_type": "stream",
          "text": [
            "accuracy 0.7373887240356083\n",
            "accuracy 0.7262103505843072\n",
            "accuracy 0.75\n",
            "accuracy 0.7527839643652561\n",
            "accuracy 0.7352941176470589\n",
            "accuracy 0.7433333333333333\n",
            "accuracy 0.7377777777777778\n",
            "accuracy 0.76\n",
            "accuracy 0.8133333333333334\n",
            "[0.7373887240356083, 0.7262103505843072, 0.75, 0.7527839643652561, 0.7352941176470589, 0.7433333333333333, 0.7377777777777778, 0.76, 0.8133333333333334]\n"
          ],
          "name": "stdout"
        }
      ]
    },
    {
      "cell_type": "code",
      "metadata": {
        "colab": {
          "base_uri": "https://localhost:8080/"
        },
        "id": "57kGVmYFAjxn",
        "outputId": "2a99e1f7-ca3a-4f95-a41c-7783c26a4675"
      },
      "source": [
        "acc_ada_test=[]\n",
        "for i in range(9):\n",
        "    X_train, X_test, y_train, y_test = train_test_split(X, y, test_size=(i+1)/10, random_state = 42)\n",
        "\n",
        "    ada = AdaBoostClassifier(n_estimators=1000, random_state=0)\n",
        "    ada.fit(X_train,y_train)\n",
        "    y_pred = ada.predict(X_test)\n",
        "    acc_ada_test.append(accuracy_score(y_pred, y_test))\n",
        "    print('accuracy %s' % accuracy_score(y_pred, y_test))\n",
        "print (acc_ada_test)"
      ],
      "execution_count": 21,
      "outputs": [
        {
          "output_type": "stream",
          "text": [
            "accuracy 0.8133333333333334\n",
            "accuracy 0.76\n",
            "accuracy 0.7377777777777778\n",
            "accuracy 0.7433333333333333\n",
            "accuracy 0.7352941176470589\n",
            "accuracy 0.7527839643652561\n",
            "accuracy 0.75\n",
            "accuracy 0.7262103505843072\n",
            "accuracy 0.7373887240356083\n",
            "[0.8133333333333334, 0.76, 0.7377777777777778, 0.7433333333333333, 0.7352941176470589, 0.7527839643652561, 0.75, 0.7262103505843072, 0.7373887240356083]\n"
          ],
          "name": "stdout"
        }
      ]
    },
    {
      "cell_type": "markdown",
      "metadata": {
        "id": "xfOCXU3fAzQ9"
      },
      "source": [
        "Logistic Regression"
      ]
    },
    {
      "cell_type": "code",
      "metadata": {
        "colab": {
          "base_uri": "https://localhost:8080/"
        },
        "id": "C13H43TWAy--",
        "outputId": "09be7d11-de8d-4f7a-d93d-abb60e04ec19"
      },
      "source": [
        "from sklearn.linear_model import LogisticRegression\n",
        "\n",
        "model = LogisticRegression(solver='lbfgs', multi_class='auto',max_iter=100)\n",
        "model.fit(X_train,y_train)"
      ],
      "execution_count": 22,
      "outputs": [
        {
          "output_type": "execute_result",
          "data": {
            "text/plain": [
              "LogisticRegression(C=1.0, class_weight=None, dual=False, fit_intercept=True,\n",
              "                   intercept_scaling=1, l1_ratio=None, max_iter=100,\n",
              "                   multi_class='auto', n_jobs=None, penalty='l2',\n",
              "                   random_state=None, solver='lbfgs', tol=0.0001, verbose=0,\n",
              "                   warm_start=False)"
            ]
          },
          "metadata": {
            "tags": []
          },
          "execution_count": 22
        }
      ]
    },
    {
      "cell_type": "code",
      "metadata": {
        "colab": {
          "base_uri": "https://localhost:8080/"
        },
        "id": "h6p7KAiBAqeS",
        "outputId": "a176f720-c400-40a8-a5db-bc31e364f2db"
      },
      "source": [
        "from sklearn.metrics import roc_auc_score\n",
        "from sklearn import preprocessing\n",
        "\n",
        "def multiclass_roc_auc_score(y_test, y_pred, average=\"macro\"):\n",
        "    lb = preprocessing.LabelBinarizer()\n",
        "    lb.fit(y_test)\n",
        "    y_test = lb.transform(y_test)\n",
        "    y_pred = lb.transform(y_pred)\n",
        "    return roc_auc_score(y_test, y_pred, average=average)\n",
        "\n",
        "# Predict the transformed test documents\n",
        "predictions = model.predict((X_test))\n",
        "\n",
        "print('AUC: ', multiclass_roc_auc_score(y_test, predictions))"
      ],
      "execution_count": 23,
      "outputs": [
        {
          "output_type": "stream",
          "text": [
            "AUC:  0.543113342898135\n"
          ],
          "name": "stdout"
        }
      ]
    },
    {
      "cell_type": "code",
      "metadata": {
        "colab": {
          "base_uri": "https://localhost:8080/"
        },
        "id": "HjuGyECqA5bM",
        "outputId": "0df1a740-a7da-4a71-a106-1ad4a442a4f2"
      },
      "source": [
        "print('accuracy %s' % accuracy_score(predictions, y_test))\n",
        "print(classification_report(y_test, predictions,target_names=['1','-1']))"
      ],
      "execution_count": 24,
      "outputs": [
        {
          "output_type": "stream",
          "text": [
            "accuracy 0.7655786350148368\n",
            "              precision    recall  f1-score   support\n",
            "\n",
            "           1       0.77      0.98      0.86       510\n",
            "          -1       0.60      0.11      0.19       164\n",
            "\n",
            "    accuracy                           0.77       674\n",
            "   macro avg       0.69      0.54      0.52       674\n",
            "weighted avg       0.73      0.77      0.70       674\n",
            "\n"
          ],
          "name": "stdout"
        }
      ]
    },
    {
      "cell_type": "code",
      "metadata": {
        "colab": {
          "base_uri": "https://localhost:8080/"
        },
        "id": "MqiVdbMCA688",
        "outputId": "d15065ef-7d79-4b32-92db-249d52ffe590"
      },
      "source": [
        "acc_log_train=[]\n",
        "for i in range(9):\n",
        "    X_train, X_test, y_train, y_test = train_test_split(X, y, train_size=(i+1)/10, random_state = 42)\n",
        "\n",
        "    log = LogisticRegression(solver='lbfgs', multi_class='auto',max_iter=100)\n",
        "    log.fit(X_train,y_train)\n",
        "    y_pred = log.predict(X_test)\n",
        "    acc_log_train.append(accuracy_score(y_pred, y_test))\n",
        "    print('accuracy %s' % accuracy_score(y_pred, y_test))\n",
        "print (acc_log_train)"
      ],
      "execution_count": 26,
      "outputs": [
        {
          "output_type": "stream",
          "text": [
            "accuracy 0.7655786350148368\n",
            "accuracy 0.7679465776293823\n",
            "accuracy 0.7614503816793893\n",
            "accuracy 0.7461024498886414\n",
            "accuracy 0.7540106951871658\n",
            "accuracy 0.7366666666666667\n",
            "accuracy 0.7377777777777778\n",
            "accuracy 0.76\n",
            "accuracy 0.7866666666666666\n",
            "[0.7655786350148368, 0.7679465776293823, 0.7614503816793893, 0.7461024498886414, 0.7540106951871658, 0.7366666666666667, 0.7377777777777778, 0.76, 0.7866666666666666]\n"
          ],
          "name": "stdout"
        }
      ]
    },
    {
      "cell_type": "code",
      "metadata": {
        "colab": {
          "base_uri": "https://localhost:8080/"
        },
        "id": "Lu4ZROtYA8dj",
        "outputId": "4006b6b7-30cd-4d5f-8752-c8ab8aaab886"
      },
      "source": [
        "acc_log_test=[]\n",
        "for i in range(9):\n",
        "    X_train, X_test, y_train, y_test = train_test_split(X, y, test_size=(i+1)/10, random_state = 42)\n",
        "\n",
        "    log = LogisticRegression(solver='lbfgs', multi_class='auto',max_iter=100)\n",
        "    log.fit(X_train,y_train)\n",
        "    y_pred = log.predict(X_test)\n",
        "    acc_log_test.append(accuracy_score(y_pred, y_test))\n",
        "    print('accuracy %s' % accuracy_score(y_pred, y_test))\n",
        "print (acc_log_test)"
      ],
      "execution_count": 27,
      "outputs": [
        {
          "output_type": "stream",
          "text": [
            "accuracy 0.7866666666666666\n",
            "accuracy 0.76\n",
            "accuracy 0.7377777777777778\n",
            "accuracy 0.7366666666666667\n",
            "accuracy 0.7540106951871658\n",
            "accuracy 0.7461024498886414\n",
            "accuracy 0.7614503816793893\n",
            "accuracy 0.7679465776293823\n",
            "accuracy 0.7655786350148368\n",
            "[0.7866666666666666, 0.76, 0.7377777777777778, 0.7366666666666667, 0.7540106951871658, 0.7461024498886414, 0.7614503816793893, 0.7679465776293823, 0.7655786350148368]\n"
          ],
          "name": "stdout"
        }
      ]
    },
    {
      "cell_type": "markdown",
      "metadata": {
        "id": "w0tAwtvxBGYy"
      },
      "source": [
        "Random Forest"
      ]
    },
    {
      "cell_type": "code",
      "metadata": {
        "colab": {
          "base_uri": "https://localhost:8080/"
        },
        "id": "07oGrp-VBEad",
        "outputId": "1c2a83d3-7e13-43b9-d98b-4e095fd4a122"
      },
      "source": [
        "from sklearn.ensemble import RandomForestClassifier\n",
        "\n",
        "model=RandomForestClassifier(n_estimators=400,criterion='entropy')\n",
        "model.fit(X_train,y_train)"
      ],
      "execution_count": 28,
      "outputs": [
        {
          "output_type": "execute_result",
          "data": {
            "text/plain": [
              "RandomForestClassifier(bootstrap=True, ccp_alpha=0.0, class_weight=None,\n",
              "                       criterion='entropy', max_depth=None, max_features='auto',\n",
              "                       max_leaf_nodes=None, max_samples=None,\n",
              "                       min_impurity_decrease=0.0, min_impurity_split=None,\n",
              "                       min_samples_leaf=1, min_samples_split=2,\n",
              "                       min_weight_fraction_leaf=0.0, n_estimators=400,\n",
              "                       n_jobs=None, oob_score=False, random_state=None,\n",
              "                       verbose=0, warm_start=False)"
            ]
          },
          "metadata": {
            "tags": []
          },
          "execution_count": 28
        }
      ]
    },
    {
      "cell_type": "code",
      "metadata": {
        "colab": {
          "base_uri": "https://localhost:8080/"
        },
        "id": "GUWOeMw2BJYI",
        "outputId": "0415836e-981e-46cd-bc4d-c5bf728c32fd"
      },
      "source": [
        "from sklearn.metrics import roc_auc_score\n",
        "from sklearn import preprocessing\n",
        "\n",
        "\n",
        "predictions = model.predict((X_test))\n",
        "\n",
        "print('AUC: ', roc_auc_score(y_test, predictions))"
      ],
      "execution_count": 29,
      "outputs": [
        {
          "output_type": "stream",
          "text": [
            "AUC:  0.5873146819703491\n"
          ],
          "name": "stdout"
        }
      ]
    },
    {
      "cell_type": "code",
      "metadata": {
        "colab": {
          "base_uri": "https://localhost:8080/"
        },
        "id": "BTPZJFA1BK-8",
        "outputId": "a7d10cdf-3b53-4ce4-df1a-321922eabab9"
      },
      "source": [
        "model.score(X_train,y_train)"
      ],
      "execution_count": 30,
      "outputs": [
        {
          "output_type": "execute_result",
          "data": {
            "text/plain": [
              "1.0"
            ]
          },
          "metadata": {
            "tags": []
          },
          "execution_count": 30
        }
      ]
    },
    {
      "cell_type": "code",
      "metadata": {
        "colab": {
          "base_uri": "https://localhost:8080/"
        },
        "id": "ADV7ZSqDBMXm",
        "outputId": "099d43d4-ef3a-4f63-f8bc-2c3b6fa11f41"
      },
      "source": [
        "print('accuracy %s' % accuracy_score(predictions, y_test))\n",
        "print(classification_report(y_test, predictions,target_names=['1','-1']))"
      ],
      "execution_count": 31,
      "outputs": [
        {
          "output_type": "stream",
          "text": [
            "accuracy 0.7729970326409495\n",
            "              precision    recall  f1-score   support\n",
            "\n",
            "           1       0.79      0.95      0.86       510\n",
            "          -1       0.59      0.23      0.33       164\n",
            "\n",
            "    accuracy                           0.77       674\n",
            "   macro avg       0.69      0.59      0.59       674\n",
            "weighted avg       0.74      0.77      0.73       674\n",
            "\n"
          ],
          "name": "stdout"
        }
      ]
    },
    {
      "cell_type": "code",
      "metadata": {
        "colab": {
          "base_uri": "https://localhost:8080/"
        },
        "id": "ebC3ag-KBNtv",
        "outputId": "b51fe653-8516-43bb-fd37-d3d3fb35abd3"
      },
      "source": [
        "acc_ran_train=[]\n",
        "for i in range(9):\n",
        "    X_train, X_test, y_train, y_test = train_test_split(X, y, train_size=(i+1)/10, random_state = 42)\n",
        "\n",
        "    ran = RandomForestClassifier(n_estimators=400,criterion='entropy')\n",
        "    ran.fit(X_train,y_train)\n",
        "    y_pred = ran.predict(X_test)\n",
        "    acc_ran_train.append(accuracy_score(y_pred, y_test))\n",
        "    print('accuracy %s' % accuracy_score(y_pred, y_test))\n",
        "print (acc_ran_train)"
      ],
      "execution_count": 33,
      "outputs": [
        {
          "output_type": "stream",
          "text": [
            "accuracy 0.7670623145400594\n",
            "accuracy 0.7662771285475793\n",
            "accuracy 0.7557251908396947\n",
            "accuracy 0.7594654788418709\n",
            "accuracy 0.7433155080213903\n",
            "accuracy 0.7466666666666667\n",
            "accuracy 0.7288888888888889\n",
            "accuracy 0.7066666666666667\n",
            "accuracy 0.72\n",
            "[0.7670623145400594, 0.7662771285475793, 0.7557251908396947, 0.7594654788418709, 0.7433155080213903, 0.7466666666666667, 0.7288888888888889, 0.7066666666666667, 0.72]\n"
          ],
          "name": "stdout"
        }
      ]
    },
    {
      "cell_type": "code",
      "metadata": {
        "colab": {
          "base_uri": "https://localhost:8080/"
        },
        "id": "D4ov2a1XDz3E",
        "outputId": "ecf5f3c4-9f9d-41b3-c3c6-ca436014287b"
      },
      "source": [
        "acc_ran_test=[]\n",
        "for i in range(9):\n",
        "    X_train, X_test, y_train, y_test = train_test_split(X, y, test_size=(i+1)/10, random_state = 42)\n",
        "\n",
        "    ran = RandomForestClassifier(n_estimators=400,criterion='entropy')\n",
        "    ran.fit(X_train,y_train)\n",
        "    y_pred = ran.predict(X_test)\n",
        "    acc_ran_test.append(accuracy_score(y_pred, y_test))\n",
        "    print('accuracy %s' % accuracy_score(y_pred, y_test))\n",
        "print (acc_ran_test)"
      ],
      "execution_count": 35,
      "outputs": [
        {
          "output_type": "stream",
          "text": [
            "accuracy 0.76\n",
            "accuracy 0.7266666666666667\n",
            "accuracy 0.7333333333333333\n",
            "accuracy 0.74\n",
            "accuracy 0.7406417112299465\n",
            "accuracy 0.7594654788418709\n",
            "accuracy 0.7557251908396947\n",
            "accuracy 0.7629382303839732\n",
            "accuracy 0.7655786350148368\n",
            "[0.76, 0.7266666666666667, 0.7333333333333333, 0.74, 0.7406417112299465, 0.7594654788418709, 0.7557251908396947, 0.7629382303839732, 0.7655786350148368]\n"
          ],
          "name": "stdout"
        }
      ]
    },
    {
      "cell_type": "markdown",
      "metadata": {
        "id": "us4lsbQeEGh9"
      },
      "source": [
        "SVM Classifier"
      ]
    },
    {
      "cell_type": "code",
      "metadata": {
        "colab": {
          "base_uri": "https://localhost:8080/"
        },
        "id": "HNGxT5MNEGC4",
        "outputId": "c39684cc-dc67-4e39-f173-02b5cd9b3cbf"
      },
      "source": [
        "from sklearn import svm\n",
        "\n",
        "\n",
        "clf = svm.SVC(kernel='linear')\n",
        "clf.fit(X_train,y_train)\n",
        "clf.score(X_train,y_train)"
      ],
      "execution_count": 36,
      "outputs": [
        {
          "output_type": "execute_result",
          "data": {
            "text/plain": [
              "0.8108108108108109"
            ]
          },
          "metadata": {
            "tags": []
          },
          "execution_count": 36
        }
      ]
    },
    {
      "cell_type": "code",
      "metadata": {
        "id": "B6uuJ8SXD5OB"
      },
      "source": [
        "predictions = clf.predict((X_test))"
      ],
      "execution_count": 37,
      "outputs": []
    },
    {
      "cell_type": "code",
      "metadata": {
        "colab": {
          "base_uri": "https://localhost:8080/"
        },
        "id": "uLeQipvWEK4-",
        "outputId": "40866ae6-af37-4364-f2aa-6de4f0c755d4"
      },
      "source": [
        "print('accuracy %s' % accuracy_score(predictions, y_test))\n",
        "print(classification_report(y_test, predictions,target_names=['1','-1']))"
      ],
      "execution_count": 38,
      "outputs": [
        {
          "output_type": "stream",
          "text": [
            "accuracy 0.7566765578635015\n",
            "              precision    recall  f1-score   support\n",
            "\n",
            "           1       0.76      1.00      0.86       510\n",
            "          -1       0.00      0.00      0.00       164\n",
            "\n",
            "    accuracy                           0.76       674\n",
            "   macro avg       0.38      0.50      0.43       674\n",
            "weighted avg       0.57      0.76      0.65       674\n",
            "\n"
          ],
          "name": "stdout"
        },
        {
          "output_type": "stream",
          "text": [
            "/usr/local/lib/python3.6/dist-packages/sklearn/metrics/_classification.py:1272: UndefinedMetricWarning: Precision and F-score are ill-defined and being set to 0.0 in labels with no predicted samples. Use `zero_division` parameter to control this behavior.\n",
            "  _warn_prf(average, modifier, msg_start, len(result))\n"
          ],
          "name": "stderr"
        }
      ]
    },
    {
      "cell_type": "code",
      "metadata": {
        "colab": {
          "base_uri": "https://localhost:8080/"
        },
        "id": "meyVIWP1EMNz",
        "outputId": "f0da3ea6-4a18-434c-a650-a587f8157bc7"
      },
      "source": [
        "acc_svm_train=[]\n",
        "for i in range(9):\n",
        "    X_train, X_test, y_train, y_test = train_test_split(X, y, train_size=(i+1)/10, random_state = 42)\n",
        "    from sklearn import svm\n",
        "\n",
        "    svm = svm.SVC(kernel='linear')\n",
        "    svm.fit(X_train,y_train)\n",
        "    y_pred = svm.predict(X_test)\n",
        "    acc_svm_train.append(accuracy_score(y_pred, y_test))\n",
        "    print('accuracy %s' % accuracy_score(y_pred, y_test))\n",
        "print (acc_svm_train)"
      ],
      "execution_count": 39,
      "outputs": [
        {
          "output_type": "stream",
          "text": [
            "accuracy 0.7566765578635015\n",
            "accuracy 0.7729549248747913\n",
            "accuracy 0.7576335877862596\n",
            "accuracy 0.7461024498886414\n",
            "accuracy 0.7620320855614974\n",
            "accuracy 0.75\n",
            "accuracy 0.7466666666666667\n",
            "accuracy 0.76\n",
            "accuracy 0.76\n",
            "[0.7566765578635015, 0.7729549248747913, 0.7576335877862596, 0.7461024498886414, 0.7620320855614974, 0.75, 0.7466666666666667, 0.76, 0.76]\n"
          ],
          "name": "stdout"
        }
      ]
    },
    {
      "cell_type": "code",
      "metadata": {
        "id": "-LMqHAMCEQBZ"
      },
      "source": [
        "acc_svm_test=[]\n",
        "for i in range(9):\n",
        "    X_train, X_test, y_train, y_test = train_test_split(X, y, test_size=(i+1)/10, random_state = 42)\n",
        "    from sklearn import svm\n",
        "\n",
        "    svm = svm.SVC(kernel='linear')\n",
        "    svm.fit(X_train,y_train)\n",
        "    y_pred = svm.predict(X_test)\n",
        "    acc_svm_test.append(accuracy_score(y_pred, y_test))\n",
        "    print('accuracy %s' % accuracy_score(y_pred, y_test))\n",
        "print (acc_svm_test)"
      ],
      "execution_count": null,
      "outputs": []
    },
    {
      "cell_type": "code",
      "metadata": {
        "id": "uExznqxoETA3"
      },
      "source": [
        "import matplotlib.pyplot as plt\n",
        "import numpy as np\n",
        "\n",
        "x = [0.1,0.2,0.3,0.4,0.5,0.6,0.7,0.8,0.9]\n",
        "y1=acc_ada_test\n",
        "y2=acc_ran_test\n",
        "y3=acc_log_test\n",
        "y4=acc_svm_test\n",
        "sns.set_style(\"darkgrid\")\n",
        "\n",
        "fig, ax = plt.subplots(figsize=(15,7),dpi=1000)\n",
        "\n",
        "plt.plot(x,y1,'r-',label='ADA BOOST')\n",
        "plt.plot(x,y2,'b-',label='RANDOM FOREST')\n",
        "plt.plot(x,y3,'g-',label='LOGISTIC REGRESSION')\n",
        "plt.plot(x,y4,'m-',label='SVM')\n",
        "\n",
        "\n",
        "ax.legend( prop={'size': 18})\n",
        "\n",
        "ax.set_xlabel('Fraction of test data',fontsize=20)\n",
        "ax.set_ylabel('Accuracy of classifier',fontsize=20)\n",
        "ax.set_title(\"Effect of varying test data on Classifier Accuracy\",fontsize=20)\n",
        "\n",
        "ax = plt.gca()\n",
        "ax.tick_params(axis = 'both', which = 'major', labelsize = 15)\n",
        "\n"
      ],
      "execution_count": null,
      "outputs": []
    },
    {
      "cell_type": "code",
      "metadata": {
        "id": "j-IMNsSxEWoR"
      },
      "source": [
        "import matplotlib.pyplot as plt\n",
        "import numpy as np\n",
        "\n",
        "x = [0.1,0.2,0.3,0.4,0.5,0.6,0.7,0.8,0.9]\n",
        "y1=acc_ada_train\n",
        "y2=acc_ran_train\n",
        "y3=acc_log_train\n",
        "y4=acc_svm_train\n",
        "sns.set_style(\"darkgrid\")\n",
        "\n",
        "fig, ax = plt.subplots(figsize=(15,7),dpi=1000)\n",
        "\n",
        "plt.plot(x,y1,'r-',label='ADA BOOST')\n",
        "plt.plot(x,y2,'b-',label='RANDOM FOREST')\n",
        "plt.plot(x,y3,'g-',label='LOGISTIC REGRESSION')\n",
        "plt.plot(x,y4,'m-',label='SVM')\n",
        "\n",
        "\n",
        "ax.legend( prop={'size': 18})\n",
        "\n",
        "ax.set_xlabel('Fraction of Train data',fontsize=20)\n",
        "ax.set_ylabel('Accuracy of classifier',fontsize=20)\n",
        "ax.set_title(\"Effect of varying Train data on Classifier Accuracy\",fontsize=20)\n",
        "\n",
        "ax = plt.gca()\n",
        "ax.tick_params(axis = 'both', which = 'major', labelsize = 15)\n",
        "\n"
      ],
      "execution_count": null,
      "outputs": []
    },
    {
      "cell_type": "code",
      "metadata": {
        "id": "SXngffT_EY5o"
      },
      "source": [
        ""
      ],
      "execution_count": null,
      "outputs": []
    }
  ]
}